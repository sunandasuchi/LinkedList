{
  "nbformat": 4,
  "nbformat_minor": 0,
  "metadata": {
    "colab": {
      "name": "DoublyLinkList.ipynb",
      "provenance": [],
      "authorship_tag": "ABX9TyM1aTfvpwPQJzLlVLY+ot5E",
      "include_colab_link": true
    },
    "kernelspec": {
      "name": "python3",
      "display_name": "Python 3"
    }
  },
  "cells": [
    {
      "cell_type": "markdown",
      "metadata": {
        "id": "view-in-github",
        "colab_type": "text"
      },
      "source": [
        "<a href=\"https://colab.research.google.com/github/sunandasuchi/LinkedList/blob/main/DoublyLinkList.ipynb\" target=\"_parent\"><img src=\"https://colab.research.google.com/assets/colab-badge.svg\" alt=\"Open In Colab\"/></a>"
      ]
    },
    {
      "cell_type": "markdown",
      "metadata": {
        "id": "eJ1ah8fdybVF"
      },
      "source": [
        "### **Doubly Linked List**\r\n",
        "\r\n",
        "\r\n",
        "\r\n"
      ]
    },
    {
      "cell_type": "code",
      "metadata": {
        "id": "WQPiY4pTyTad"
      },
      "source": [
        "class Node:\r\n",
        "  def __init__(self, data):\r\n",
        "    self.data = data\r\n",
        "    self.next = None\r\n",
        "    self.prev = None"
      ],
      "execution_count": null,
      "outputs": []
    },
    {
      "cell_type": "code",
      "metadata": {
        "id": "rJHNr8h1yazg"
      },
      "source": [
        "class DoublyLinkedList:\r\n",
        "  def __init__(self):\r\n",
        "    self.head = None\r\n",
        "    self.tail = self.head\r\n",
        "    self.length = 0\r\n",
        "  \r\n",
        "  def append(self, data):\r\n",
        "    node1 = Node(data)\r\n",
        "    if self.head == None:\r\n",
        "      self.head = node1\r\n",
        "      self.tail = self.head\r\n",
        "      self.length += 1\r\n",
        "      return\r\n",
        "    else:\r\n",
        "      node1.prev = self.tail\r\n",
        "      self.tail.next = node1\r\n",
        "      self.tail = node1\r\n",
        "      self.length += 1\r\n",
        "      return\r\n",
        "    \r\n",
        "  def prepend(self, data):\r\n",
        "    node1 = Node(data)\r\n",
        "    if self.head == None:\r\n",
        "      self.head = node1\r\n",
        "      self.tail = self.head\r\n",
        "      self.length += 1\r\n",
        "      return\r\n",
        "    else:\r\n",
        "      self.head.prev= node1\r\n",
        "      node1.next = self.head\r\n",
        "      self.head = node1\r\n",
        "      self.length += 1\r\n",
        "      return\r\n",
        "\r\n",
        "  def insert(self,ind, data):\r\n",
        "    node1 = Node(data)\r\n",
        "    if ind >= self.length:\r\n",
        "      if ind > self.length:\r\n",
        "        print(\"Index Does not Exist\")\r\n",
        "        return\r\n",
        "      else:\r\n",
        "        self.append(data)\r\n",
        "        return\r\n",
        "    if ind == 0:\r\n",
        "      self.prepend(data)\r\n",
        "      return\r\n",
        "\r\n",
        "    else:\r\n",
        "      current = self.head\r\n",
        "      for i in range(ind -1):\r\n",
        "        current = current.next\r\n",
        "      node1.next = current.next\r\n",
        "      current.next = node1\r\n",
        "      node1.next.prev = node1\r\n",
        "      node1.prev = current\r\n",
        "      self.length += 1\r\n",
        "      return\r\n",
        "\r\n",
        "  def deleteIndex(self, ind):\r\n",
        "    if ind >= self.length:\r\n",
        "      print(\"Invalid Index\")\r\n",
        "      return\r\n",
        "    if ind == 0:\r\n",
        "      self.head = self.head.next\r\n",
        "      if self.head != None:\r\n",
        "        self.head.prev = None\r\n",
        "      else:\r\n",
        "        self.tail = self.head\r\n",
        "      self.length -= 1\r\n",
        "      return\r\n",
        "    else:\r\n",
        "      current = self.head\r\n",
        "      for i in range(ind-1):\r\n",
        "        current = current.next\r\n",
        "      current.next = current.next.next\r\n",
        "      if current.next != None:\r\n",
        "        current.next.prev = current\r\n",
        "      else:\r\n",
        "        self.tail = current\r\n",
        "      self.length -= 1\r\n",
        "      return\r\n",
        "\r\n",
        "  \r\n",
        "  def deleteValue(self, data):\r\n",
        "    \r\n",
        "    if self.head == None:\r\n",
        "      print(\"Empty List\")\r\n",
        "      return\r\n",
        "    \r\n",
        "    if data == self.head:\r\n",
        "      self.head = self.head.next\r\n",
        "      if self.head != None:\r\n",
        "        self.head.prev = None\r\n",
        "      else:\r\n",
        "        self.tail = self.head\r\n",
        "      self.length -= 1\r\n",
        "      return\r\n",
        "\r\n",
        "    try:\r\n",
        "      current = self.head\r\n",
        "      while current.next != None and current.next.data != data:\r\n",
        "        current = current.next\r\n",
        "      current.next = current.next.next\r\n",
        "      if current.next != None:\r\n",
        "        current.next.prev = current\r\n",
        "      else:\r\n",
        "        self.tail = current\r\n",
        "      self.length -= 1\r\n",
        "      return\r\n",
        "    except AttributeError:\r\n",
        "      print(\"Item Not found\")\r\n",
        "      return\r\n",
        "\r\n",
        "\r\n",
        "  def printList(self):\r\n",
        "    if self.head == None:\r\n",
        "      print(\"Empty List\")\r\n",
        "      return\r\n",
        "    else:\r\n",
        "      current = self.head\r\n",
        "      while(current != None):\r\n",
        "        print(current.data, end = '   ')\r\n",
        "        current = current.next\r\n",
        "\r\n",
        "    print()\r\n"
      ],
      "execution_count": null,
      "outputs": []
    },
    {
      "cell_type": "code",
      "metadata": {
        "colab": {
          "base_uri": "https://localhost:8080/"
        },
        "id": "6ExFEq0m5WjN",
        "outputId": "2ef0ace5-f65b-4031-8309-37daeffb36f5"
      },
      "source": [
        "dlist = DoublyLinkedList()\r\n",
        "dlist.append(2)\r\n",
        "dlist.append(5)\r\n",
        "dlist.append(6)\r\n",
        "dlist.prepend(1)\r\n",
        "dlist.insert(3,5.2)\r\n",
        "dlist.printList()"
      ],
      "execution_count": null,
      "outputs": [
        {
          "output_type": "stream",
          "text": [
            "1   2   5   5.2   6   \n"
          ],
          "name": "stdout"
        }
      ]
    },
    {
      "cell_type": "code",
      "metadata": {
        "colab": {
          "base_uri": "https://localhost:8080/"
        },
        "id": "x6C4jsU2HLf6",
        "outputId": "8ae88864-5027-4272-afef-b9045a79c329"
      },
      "source": [
        "dlist.deleteValue(1)\r\n",
        "dlist.printList()"
      ],
      "execution_count": null,
      "outputs": [
        {
          "output_type": "stream",
          "text": [
            "Item Not found\n",
            "1   2   5   5.2   \n"
          ],
          "name": "stdout"
        }
      ]
    },
    {
      "cell_type": "code",
      "metadata": {
        "colab": {
          "base_uri": "https://localhost:8080/"
        },
        "id": "thvR_ro4HPeu",
        "outputId": "c989d1d2-372b-48e8-8e6f-b7e2b8a9d803"
      },
      "source": [
        "dlist.deleteIndex(2)\r\n",
        "dlist.printList()"
      ],
      "execution_count": null,
      "outputs": [
        {
          "output_type": "stream",
          "text": [
            "Invalid Index\n",
            "1   5   \n"
          ],
          "name": "stdout"
        }
      ]
    }
  ]
}