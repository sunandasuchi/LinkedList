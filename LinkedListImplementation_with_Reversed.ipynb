{
  "nbformat": 4,
  "nbformat_minor": 0,
  "metadata": {
    "colab": {
      "name": "LinkedList_with_Reversed.ipynb",
      "provenance": [],
      "authorship_tag": "ABX9TyNw1j1ZJ7iSbZUesia5Vcym",
      "include_colab_link": true
    },
    "kernelspec": {
      "name": "python3",
      "display_name": "Python 3"
    }
  },
  "cells": [
    {
      "cell_type": "markdown",
      "metadata": {
        "id": "view-in-github",
        "colab_type": "text"
      },
      "source": [
        "<a href=\"https://colab.research.google.com/github/sunandasuchi/LinkedList/blob/main/LinkedListImplementation_with_Reversed.ipynb\" target=\"_parent\"><img src=\"https://colab.research.google.com/assets/colab-badge.svg\" alt=\"Open In Colab\"/></a>"
      ]
    },
    {
      "cell_type": "markdown",
      "metadata": {
        "id": "Mdt8As4GTQ34"
      },
      "source": [
        "### **Linked List Implementation**"
      ]
    },
    {
      "cell_type": "code",
      "metadata": {
        "id": "l-pETkmlTFV-"
      },
      "source": [
        "class Node:\r\n",
        "  def __init__(self, data):\r\n",
        "    self.data = data\r\n",
        "    self.next = None"
      ],
      "execution_count": 119,
      "outputs": []
    },
    {
      "cell_type": "code",
      "metadata": {
        "id": "YCge-PhKTi8P"
      },
      "source": [
        "class LinkedList:\r\n",
        "  def __init__(self):\r\n",
        "    self.head = None\r\n",
        "    self.tail = self.head\r\n",
        "    self.length = 0\r\n",
        "\r\n",
        "  def append(self, data):\r\n",
        "    node1 = Node(data)\r\n",
        "    if self.head == None:\r\n",
        "      self.head = node1\r\n",
        "      self.tail = self.head\r\n",
        "      self.length += 1\r\n",
        "      return\r\n",
        "    else:\r\n",
        "      self.tail.next = node1\r\n",
        "      self.tail = node1\r\n",
        "      self.length += 1\r\n",
        "      return\r\n",
        "  \r\n",
        "  def prepend(self, data):\r\n",
        "    node1 = Node(data)\r\n",
        "    if self.head == None:\r\n",
        "      self.head = node1\r\n",
        "      self.tail = self.head\r\n",
        "      self.length += 1\r\n",
        "      return\r\n",
        "    else:\r\n",
        "      node1.next = self.head\r\n",
        "      self.head = node1\r\n",
        "      self.length += 1\r\n",
        "      return\r\n",
        "\r\n",
        "  def insert(self, ind, data):\r\n",
        "    node1 = Node(data)\r\n",
        "    if ind >= self.length:\r\n",
        "      if ind> self.length:\r\n",
        "        print(\"Invalid Index\")\r\n",
        "        return\r\n",
        "      else:\r\n",
        "        self.append(data)\r\n",
        "        return\r\n",
        "\r\n",
        "    if ind == 0:\r\n",
        "      self.prepend(data)\r\n",
        "      return\r\n",
        "\r\n",
        "    else:\r\n",
        "      current = self.head\r\n",
        "      for i in range(ind-1):\r\n",
        "        current = current.next\r\n",
        "      node1.next = current.next\r\n",
        "      current.next =  node1\r\n",
        "      self.length += 1\r\n",
        "      return\r\n",
        "\r\n",
        "  def deleteIndex(self, ind):\r\n",
        "    if ind >= self.length:\r\n",
        "      print(\"Invalid Index\")\r\n",
        "      return\r\n",
        "    \r\n",
        "    if ind == 0:\r\n",
        "      self.head = self.head.next\r\n",
        "      if self.head == None:\r\n",
        "        self.tail = self.head\r\n",
        "      self.length -= 1\r\n",
        "\r\n",
        "    else:\r\n",
        "      current = self.head\r\n",
        "      for i in range(ind-1):\r\n",
        "        current = current.next\r\n",
        "      current.next = current.next.next\r\n",
        "      if current.next == None:\r\n",
        "        self.tail = current\r\n",
        "      self.length -= 1\r\n",
        "      return\r\n",
        "\r\n",
        "  def deleteValue(self, data):\r\n",
        "    if self.head == None:\r\n",
        "      print(\"Empty List\")\r\n",
        "      return\r\n",
        "    \r\n",
        "    if self.head == data:\r\n",
        "      self.head = self.head.next\r\n",
        "      if self.head == None:\r\n",
        "        self.tail = self.head\r\n",
        "      self.length -= 1\r\n",
        "      return\r\n",
        "\r\n",
        "    else:\r\n",
        "      current = self.head\r\n",
        "      while current.next != None and current.next.data != data:\r\n",
        "        current = current.next\r\n",
        "      if current.next != None:\r\n",
        "        current.next = current.next.next\r\n",
        "        if current.next == None:\r\n",
        "          self.tail = current\r\n",
        "        self.length -= 1\r\n",
        "      else:\r\n",
        "        print(\"Item not found\")\r\n",
        "        return\r\n",
        "\r\n",
        "  def reverse(self):\r\n",
        "    if self.length <=1:\r\n",
        "        return \r\n",
        "\r\n",
        "    else:\r\n",
        "      first = self.head\r\n",
        "      second = first.next\r\n",
        "      self.tail = self.head\r\n",
        "      while second:\r\n",
        "        temp = second.next\r\n",
        "        second.next = first\r\n",
        "        first = second\r\n",
        "        second = temp\r\n",
        "      print(\"First\", first.data)\r\n",
        "      self.head.next = None\r\n",
        "      self.head = first\r\n",
        "      return\r\n",
        "    \r\n",
        "\r\n",
        "  def printList(self):\r\n",
        "    if self.head == None:\r\n",
        "      print(\"Empty List\")\r\n",
        "      return\r\n",
        "\r\n",
        "    else:\r\n",
        "      current = self.head\r\n",
        "      while current != None:\r\n",
        "        print(current.data, end = \"   \")\r\n",
        "        current = current.next\r\n",
        "    print()\r\n",
        "\r\n",
        "\r\n",
        "\r\n"
      ],
      "execution_count": 120,
      "outputs": []
    },
    {
      "cell_type": "code",
      "metadata": {
        "id": "7tikXg69cN_B"
      },
      "source": [
        "mylst = LinkedList()\r\n",
        "mylst.append(2)\r\n",
        "mylst.append(5)\r\n",
        "mylst.append(10)\r\n",
        "mylst.append(15)\r\n",
        "mylst.append(20)"
      ],
      "execution_count": 121,
      "outputs": []
    },
    {
      "cell_type": "code",
      "metadata": {
        "id": "Ji2jxXrQcflH"
      },
      "source": [
        "mylst.prepend(1)"
      ],
      "execution_count": 122,
      "outputs": []
    },
    {
      "cell_type": "code",
      "metadata": {
        "colab": {
          "base_uri": "https://localhost:8080/"
        },
        "id": "o_JwqsELcOAn",
        "outputId": "b7f1c343-1e8d-4e4c-faad-95eaf192a9b7"
      },
      "source": [
        "mylst.printList()"
      ],
      "execution_count": 123,
      "outputs": [
        {
          "output_type": "stream",
          "text": [
            "1   2   5   10   15   20   \n"
          ],
          "name": "stdout"
        }
      ]
    },
    {
      "cell_type": "code",
      "metadata": {
        "colab": {
          "base_uri": "https://localhost:8080/"
        },
        "id": "bKAWzBnbdFNU",
        "outputId": "fb9e0d5e-b572-4763-c109-d905c55babb3"
      },
      "source": [
        "mylst.insert(4, 12)\r\n",
        "mylst.printList()"
      ],
      "execution_count": 124,
      "outputs": [
        {
          "output_type": "stream",
          "text": [
            "1   2   5   10   12   15   20   \n"
          ],
          "name": "stdout"
        }
      ]
    },
    {
      "cell_type": "code",
      "metadata": {
        "colab": {
          "base_uri": "https://localhost:8080/"
        },
        "id": "P4xhJq6SdVtq",
        "outputId": "23a2d733-f277-4985-aad1-9e0ac3033ff0"
      },
      "source": [
        "mylst.deleteValue(50)\r\n",
        "mylst.printList()"
      ],
      "execution_count": 125,
      "outputs": [
        {
          "output_type": "stream",
          "text": [
            "Item not found\n",
            "1   2   5   10   12   15   20   \n"
          ],
          "name": "stdout"
        }
      ]
    },
    {
      "cell_type": "code",
      "metadata": {
        "colab": {
          "base_uri": "https://localhost:8080/"
        },
        "id": "gPFvyQAQdVvJ",
        "outputId": "6b41add6-4d88-4108-9e67-eabfdedc1a7b"
      },
      "source": [
        "reverse = mylst.reverse()"
      ],
      "execution_count": 126,
      "outputs": [
        {
          "output_type": "stream",
          "text": [
            "First 20\n"
          ],
          "name": "stdout"
        }
      ]
    },
    {
      "cell_type": "code",
      "metadata": {
        "colab": {
          "base_uri": "https://localhost:8080/"
        },
        "id": "Z5Q5-yjpfE1X",
        "outputId": "a9b26a53-dd45-44ca-8e4c-79f12ad35224"
      },
      "source": [
        "mylst.printList()"
      ],
      "execution_count": 127,
      "outputs": [
        {
          "output_type": "stream",
          "text": [
            "20   15   12   10   5   2   1   \n"
          ],
          "name": "stdout"
        }
      ]
    }
  ]
}